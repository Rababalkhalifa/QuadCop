{
 "cells": [
  {
   "cell_type": "markdown",
   "metadata": {},
   "source": [
    "# Project: Train a Quadcopter How to Fly\n",
    "\n",
    "Design an agent to fly a quadcopter, and then train it using a reinforcement learning algorithm of your choice! \n",
    "\n",
    "Try to apply the techniques you have learnt, but also feel free to come up with innovative ideas and test them."
   ]
  },
  {
   "cell_type": "markdown",
   "metadata": {},
   "source": [
    "## Instructions\n",
    "\n",
    "Take a look at the files in the directory to better understand the structure of the project. \n",
    "\n",
    "- `task.py`: Define your task (environment) in this file.\n",
    "- `agents/`: Folder containing reinforcement learning agents.\n",
    "    - `policy_search.py`: A sample agent has been provided here.\n",
    "    - `agent.py`: Develop your agent here.\n",
    "- `physics_sim.py`: This file contains the simulator for the quadcopter.  **DO NOT MODIFY THIS FILE**.\n",
    "\n",
    "For this project, you will define your own task in `task.py`.  Although we have provided a example task to get you started, you are encouraged to change it.  Later in this notebook, you will learn more about how to amend this file.\n",
    "\n",
    "You will also design a reinforcement learning agent in `agent.py` to complete your chosen task.  \n",
    "\n",
    "You are welcome to create any additional files to help you to organize your code.  For instance, you may find it useful to define a `model.py` file defining any needed neural network architectures.\n",
    "\n",
    "## Controlling the Quadcopter\n",
    "\n",
    "We provide a sample agent in the code cell below to show you how to use the sim to control the quadcopter.  This agent is even simpler than the sample agent that you'll examine (in `agents/policy_search.py`) later in this notebook!\n",
    "\n",
    "The agent controls the quadcopter by setting the revolutions per second on each of its four rotors.  The provided agent in the `Basic_Agent` class below always selects a random action for each of the four rotors.  These four speeds are returned by the `act` method as a list of four floating-point numbers.  \n",
    "\n",
    "For this project, the agent that you will implement in `agents/agent.py` will have a far more intelligent method for selecting actions!"
   ]
  },
  {
   "cell_type": "code",
   "execution_count": 8,
   "metadata": {
    "collapsed": true
   },
   "outputs": [],
   "source": [
    "import random\n",
    "\n",
    "class Basic_Agent():\n",
    "    def __init__(self, task):\n",
    "        self.task = task\n",
    "    \n",
    "    def act(self):\n",
    "        new_thrust = random.gauss(450., 25.)\n",
    "        return [new_thrust + random.gauss(0., 1.) for x in range(4)]"
   ]
  },
  {
   "cell_type": "markdown",
   "metadata": {},
   "source": [
    "Run the code cell below to have the agent select actions to control the quadcopter.  \n",
    "\n",
    "Feel free to change the provided values of `runtime`, `init_pose`, `init_velocities`, and `init_angle_velocities` below to change the starting conditions of the quadcopter.\n",
    "\n",
    "The `labels` list below annotates statistics that are saved while running the simulation.  All of this information is saved in a text file `data.txt` and stored in the dictionary `results`.  "
   ]
  },
  {
   "cell_type": "code",
   "execution_count": 9,
   "metadata": {
    "collapsed": true
   },
   "outputs": [],
   "source": [
    "%load_ext autoreload\n",
    "%autoreload 2\n",
    "\n",
    "import csv\n",
    "import numpy as np\n",
    "from task import Task\n",
    "\n",
    "# Modify the values below to give the quadcopter a different starting position.\n",
    "runtime = 5.                                     # time limit of the episode\n",
    "init_pose = np.array([0., 100., 10., 0., 0., 0.])  # initial pose\n",
    "init_velocities = np.array([0., 0., 0.])         # initial velocities\n",
    "init_angle_velocities = np.array([0., 0., 0.])   # initial angle velocities\n",
    "file_output = 'data.txt'                         # file name for saved results\n",
    "\n",
    "# Setup\n",
    "task = Task(init_pose, init_velocities, init_angle_velocities, runtime)\n",
    "agent = Basic_Agent(task)\n",
    "done = False\n",
    "labels = ['time', 'x', 'y', 'z', 'phi', 'theta', 'psi', 'x_velocity',\n",
    "          'y_velocity', 'z_velocity', 'phi_velocity', 'theta_velocity',\n",
    "          'psi_velocity', 'rotor_speed1', 'rotor_speed2', 'rotor_speed3', 'rotor_speed4']\n",
    "results = {x : [] for x in labels}\n",
    "\n",
    "# Run the simulation, and save the results.\n",
    "with open(file_output, 'w') as csvfile:\n",
    "    writer = csv.writer(csvfile)\n",
    "    writer.writerow(labels)\n",
    "    while True:\n",
    "        rotor_speeds = agent.act()\n",
    "        _, _, done = task.step(rotor_speeds)\n",
    "        to_write = [task.sim.time] + list(task.sim.pose) + list(task.sim.v) + list(task.sim.angular_v) + list(rotor_speeds)\n",
    "        for ii in range(len(labels)):\n",
    "            results[labels[ii]].append(to_write[ii])\n",
    "        writer.writerow(to_write)\n",
    "        if done:\n",
    "            break"
   ]
  },
  {
   "cell_type": "markdown",
   "metadata": {},
   "source": [
    "Run the code cell below to visualize how the position of the quadcopter evolved during the simulation."
   ]
  },
  {
   "cell_type": "code",
   "execution_count": 10,
   "metadata": {},
   "outputs": [
    {
     "data": {
      "image/png": "[encoded data removed]",
      "text/plain": [
       "<matplotlib.figure.Figure at 0x1ec5aa9cb00>"
      ]
     },
     "metadata": {
      "needs_background": "light"
     },
     "output_type": "display_data"
    }
   ],
   "source": [
    "import matplotlib.pyplot as plt\n",
    "%matplotlib inline\n",
    "\n",
    "plt.plot(results['time'], results['x'], label='x')\n",
    "plt.plot(results['time'], results['y'], label='y')\n",
    "plt.plot(results['time'], results['z'], label='z')\n",
    "plt.legend()\n",
    "_ = plt.ylim()"
   ]
  },
  {
   "cell_type": "markdown",
   "metadata": {},
   "source": [
    "The next code cell visualizes the velocity of the quadcopter."
   ]
  },
  {
   "cell_type": "code",
   "execution_count": 11,
   "metadata": {},
   "outputs": [
    {
     "data": {
      "image/png": "[encoded data removed]",
      "text/plain": [
       "<matplotlib.figure.Figure at 0x1ec75b010b8>"
      ]
     },
     "metadata": {
      "needs_background": "light"
     },
     "output_type": "display_data"
    }
   ],
   "source": [
    "plt.plot(results['time'], results['x_velocity'], label='x_hat')\n",
    "plt.plot(results['time'], results['y_velocity'], label='y_hat')\n",
    "plt.plot(results['time'], results['z_velocity'], label='z_hat')\n",
    "plt.legend()\n",
    "_ = plt.ylim()"
   ]
  },
  {
   "cell_type": "markdown",
   "metadata": {},
   "source": [
    "Next, you can plot the Euler angles (the rotation of the quadcopter over the $x$-, $y$-, and $z$-axes),"
   ]
  },
  {
   "cell_type": "code",
   "execution_count": 12,
   "metadata": {},
   "outputs": [
    {
     "data": {
      "image/png": "[encoded data removed]",
      "text/plain": [
       "<matplotlib.figure.Figure at 0x1ec77c23a58>"
      ]
     },
     "metadata": {
      "needs_background": "light"
     },
     "output_type": "display_data"
    }
   ],
   "source": [
    "plt.plot(results['time'], results['phi'], label='phi')\n",
    "plt.plot(results['time'], results['theta'], label='theta')\n",
    "plt.plot(results['time'], results['psi'], label='psi')\n",
    "plt.legend()\n",
    "_ = plt.ylim()"
   ]
  },
  {
   "cell_type": "markdown",
   "metadata": {},
   "source": [
    "before plotting the velocities (in radians per second) corresponding to each of the Euler angles."
   ]
  },
  {
   "cell_type": "code",
   "execution_count": 13,
   "metadata": {},
   "outputs": [
    {
     "data": {
      "image/png": "[encoded data removed]",
      "text/plain": [
       "<matplotlib.figure.Figure at 0x1ec77c15da0>"
      ]
     },
     "metadata": {
      "needs_background": "light"
     },
     "output_type": "display_data"
    }
   ],
   "source": [
    "plt.plot(results['time'], results['phi_velocity'], label='phi_velocity')\n",
    "plt.plot(results['time'], results['theta_velocity'], label='theta_velocity')\n",
    "plt.plot(results['time'], results['psi_velocity'], label='psi_velocity')\n",
    "plt.legend()\n",
    "_ = plt.ylim()"
   ]
  },
  {
   "cell_type": "markdown",
   "metadata": {},
   "source": [
    "Finally, you can use the code cell below to print the agent's choice of actions.  "
   ]
  },
  {
   "cell_type": "code",
   "execution_count": 14,
   "metadata": {},
   "outputs": [
    {
     "data": {
      "image/png": "[encoded data removed]",
      "text/plain": [
       "<matplotlib.figure.Figure at 0x1ec77cc5668>"
      ]
     },
     "metadata": {
      "needs_background": "light"
     },
     "output_type": "display_data"
    }
   ],
   "source": [
    "plt.plot(results['time'], results['rotor_speed1'], label='Rotor 1 revolutions / second')\n",
    "plt.plot(results['time'], results['rotor_speed2'], label='Rotor 2 revolutions / second')\n",
    "plt.plot(results['time'], results['rotor_speed3'], label='Rotor 3 revolutions / second')\n",
    "plt.plot(results['time'], results['rotor_speed4'], label='Rotor 4 revolutions / second')\n",
    "plt.legend()\n",
    "_ = plt.ylim()"
   ]
  },
  {
   "cell_type": "markdown",
   "metadata": {},
   "source": [
    "When specifying a task, you will derive the environment state from the simulator.  Run the code cell below to print the values of the following variables at the end of the simulation:\n",
    "- `task.sim.pose` (the position of the quadcopter in ($x,y,z$) dimensions and the Euler angles),\n",
    "- `task.sim.v` (the velocity of the quadcopter in ($x,y,z$) dimensions), and\n",
    "- `task.sim.angular_v` (radians/second for each of the three Euler angles)."
   ]
  },
  {
   "cell_type": "code",
   "execution_count": 7,
   "metadata": {},
   "outputs": [
    {
     "name": "stdout",
     "output_type": "stream",
     "text": [
      "[7.529435   4.34561028 0.         3.57221389 5.14160877 0.        ]\n",
      "[  5.19038016   4.17667036 -20.40071375]\n",
      "[-7.67758228 -4.28348187  0.        ]\n"
     ]
    }
   ],
   "source": [
    "# the pose, velocity, and angular velocity of the quadcopter at the end of the episode\n",
    "print(task.sim.pose)\n",
    "print(task.sim.v)\n",
    "print(task.sim.angular_v)"
   ]
  },
  {
   "cell_type": "markdown",
   "metadata": {},
   "source": [
    "In the sample task in `task.py`, we use the 6-dimensional pose of the quadcopter to construct the state of the environment at each timestep.  However, when amending the task for your purposes, you are welcome to expand the size of the state vector by including the velocity information.  You can use any combination of the pose, velocity, and angular velocity - feel free to tinker here, and construct the state to suit your task.\n",
    "\n",
    "## The Task\n",
    "\n",
    "A sample task has been provided for you in `task.py`.  Open this file in a new window now. \n",
    "\n",
    "The `__init__()` method is used to initialize several variables that are needed to specify the task.  \n",
    "- The simulator is initialized as an instance of the `PhysicsSim` class (from `physics_sim.py`).  \n",
    "- Inspired by the methodology in the original DDPG paper, we make use of action repeats.  For each timestep of the agent, we step the simulation `action_repeats` timesteps.  If you are not familiar with action repeats, please read the **Results** section in [the DDPG paper](https://arxiv.org/abs/1509.02971).\n",
    "- We set the number of elements in the state vector.  For the sample task, we only work with the 6-dimensional pose information.  To set the size of the state (`state_size`), we must take action repeats into account.  \n",
    "- The environment will always have a 4-dimensional action space, with one entry for each rotor (`action_size=4`). You can set the minimum (`action_low`) and maximum (`action_high`) values of each entry here.\n",
    "- The sample task in this provided file is for the agent to reach a target position.  We specify that target position as a variable.\n",
    "\n",
    "The `reset()` method resets the simulator.  The agent should call this method every time the episode ends.  You can see an example of this in the code cell below.\n",
    "\n",
    "The `step()` method is perhaps the most important.  It accepts the agent's choice of action `rotor_speeds`, which is used to prepare the next state to pass on to the agent.  Then, the reward is computed from `get_reward()`.  The episode is considered done if the time limit has been exceeded, or the quadcopter has travelled outside of the bounds of the simulation.\n",
    "\n",
    "In the next section, you will learn how to test the performance of an agent on this task."
   ]
  },
  {
   "cell_type": "markdown",
   "metadata": {},
   "source": [
    "## The Agent\n",
    "\n",
    "The sample agent given in `agents/policy_search.py` uses a very simplistic linear policy to directly compute the action vector as a dot product of the state vector and a matrix of weights. Then, it randomly perturbs the parameters by adding some Gaussian noise, to produce a different policy. Based on the average reward obtained in each episode (`score`), it keeps track of the best set of parameters found so far, how the score is changing, and accordingly tweaks a scaling factor to widen or tighten the noise.\n",
    "\n",
    "Run the code cell below to see how the agent performs on the sample task."
   ]
  },
  {
   "cell_type": "code",
   "execution_count": 10,
   "metadata": {},
   "outputs": [
    {
     "name": "stdout",
     "output_type": "stream",
     "text": [
      "Episode = 1000, score =  -1.094 (best =   0.328), noise_scale = 3.2625"
     ]
    }
   ],
   "source": [
    "import sys\n",
    "import pandas as pd\n",
    "from agents.policy_search import PolicySearch_Agent\n",
    "from task import Task\n",
    "\n",
    "num_episodes = 1000\n",
    "target_pos = np.array([0., 0., 10.])\n",
    "task = Task(target_pos=target_pos)\n",
    "agent = PolicySearch_Agent(task) \n",
    "\n",
    "for i_episode in range(1, num_episodes+1):\n",
    "    state = agent.reset_episode() # start a new episode\n",
    "    while True:\n",
    "        action = agent.act(state) \n",
    "        next_state, reward, done = task.step(action)\n",
    "        agent.step(reward, done)\n",
    "        state = next_state\n",
    "        if done:\n",
    "            print(\"\\rEpisode = {:4d}, score = {:7.3f} (best = {:7.3f}), noise_scale = {}\".format(\n",
    "                i_episode, agent.score, agent.best_score, agent.noise_scale), end=\"\")  # [debug]\n",
    "            break\n",
    "    sys.stdout.flush()"
   ]
  },
  {
   "cell_type": "markdown",
   "metadata": {},
   "source": [
    "This agent should perform very poorly on this task.  And that's where you come in!"
   ]
  },
  {
   "cell_type": "markdown",
   "metadata": {
    "collapsed": true
   },
   "source": [
    "## Define the Task, Design the Agent, and Train Your Agent!\n",
    "\n",
    "Amend `task.py` to specify a task of your choosing.  If you're unsure what kind of task to specify, you may like to teach your quadcopter to takeoff, hover in place, land softly, or reach a target pose.  \n",
    "\n",
    "After specifying your task, use the sample agent in `agents/policy_search.py` as a template to define your own agent in `agents/agent.py`.  You can borrow whatever you need from the sample agent, including ideas on how you might modularize your code (using helper methods like `act()`, `learn()`, `reset_episode()`, etc.).\n",
    "\n",
    "Note that it is **highly unlikely** that the first agent and task that you specify will learn well.  You will likely have to tweak various hyperparameters and the reward function for your task until you arrive at reasonably good behavior.\n",
    "\n",
    "As you develop your agent, it's important to keep an eye on how it's performing. Use the code above as inspiration to build in a mechanism to log/save the total rewards obtained in each episode to file.  If the episode rewards are gradually increasing, this is an indication that your agent is learning."
   ]
  },
  {
   "cell_type": "markdown",
   "metadata": {},
   "source": [
    "1- To familiarize my self with the project I tried to replicate one experment in the SRC section below and the below code"
   ]
  },
  {
   "cell_type": "code",
   "execution_count": 11,
   "metadata": {
    "collapsed": true,
    "scrolled": true
   },
   "outputs": [],
   "source": [
    "# import time\n",
    "# import gym\n",
    "# from task_mountain_car import TaskMountainCar\n",
    "# from agents.agent import DDPG\n",
    "\n",
    "# task = TaskMountainCar(gym.make('MountainCarContinuous-v0'))\n",
    "\n",
    "# agent = DDPG(task)\n",
    "# rewards = []\n",
    "# for i_episode in range(1, 10):\n",
    "#     state = agent.reset_episode() # start a new episode\n",
    "#     while True:\n",
    "#         action = agent.act(state)\n",
    "#         next_state, reward, done = task.step(action)\n",
    "#         agent.step(action, reward, next_state, done)\n",
    "#         state = next_state\n",
    "#         if done:\n",
    "#             rewards.append(reward)\n",
    "#             print(\"\\rEpisode = {:4d}, score = {:7.3f} (best = {:7.3f})\".format(\n",
    "#                 i_episode, agent.score, agent.best_score), end=\"\")  # [debug]\n",
    "#             rewards.append(reward)\n",
    "#             break            \n",
    "#     sys.stdout.flush()"
   ]
  },
  {
   "cell_type": "markdown",
   "metadata": {},
   "source": [
    "SRC: https://curiouscoder.space/blog/deep%20learning/teaching-a-quadcopter-to-take-off-ddpg/"
   ]
  },
  {
   "cell_type": "markdown",
   "metadata": {},
   "source": [
    "2- I followed instruction in udacity to construct my agent with the defult parameter settings and teach it how to fly\n",
    "\n",
    "Agent: DDPG\n",
    "\n",
    "Task: TaskMountainCar my version not the above in the blog"
   ]
  },
  {
   "cell_type": "code",
   "execution_count": 15,
   "metadata": {
    "scrolled": true
   },
   "outputs": [
    {
     "name": "stdout",
     "output_type": "stream",
     "text": [
      "\u001b[33mWARN: gym.spaces.Box autodetected dtype as <class 'numpy.float32'>. Please provide explicit dtype.\u001b[0m\n",
      "\u001b[33mWARN: gym.spaces.Box autodetected dtype as <class 'numpy.float32'>. Please provide explicit dtype.\u001b[0m\n",
      "Episode = 1000, score =  83.867 (best =  97.199)"
     ]
    }
   ],
   "source": [
    "import time\n",
    "import gym\n",
    "from agents.agent import Basic_Agent\n",
    "from agents.agent import DDPG\n",
    "from task_mountain_car import TaskMountainCar\n",
    "\n",
    "task = TaskMountainCar(gym.make('MountainCarContinuous-v0')  )\n",
    "\n",
    "agent = DDPG(task)\n",
    "agent_rewards = []\n",
    "for i_episode in range(1, 1001):\n",
    "    state = agent.reset_episode() # start a new episode\n",
    "    while True:\n",
    "        action = agent.act(state)\n",
    "        next_state, reward, done = task.step(action)\n",
    "        agent.step(action, reward, next_state, done)\n",
    "        state = next_state\n",
    "        if done:\n",
    "            print(\"\\rEpisode = {:4d}, score = {:7.3f} (best = {:7.3f})\".format(\n",
    "                i_episode, agent.score, agent.best_score), end=\"\")  # [debug]\n",
    "            agent_rewards.append(reward)\n",
    "            break            \n",
    "    sys.stdout.flush()"
   ]
  },
  {
   "cell_type": "markdown",
   "metadata": {
    "collapsed": true
   },
   "source": [
    "## Plot the Rewards\n",
    "\n",
    "Once you are satisfied with your performance, plot the episode rewards, either from a single run, or averaged over multiple runs. "
   ]
  },
  {
   "cell_type": "code",
   "execution_count": 16,
   "metadata": {
    "scrolled": false
   },
   "outputs": [
    {
     "data": {
      "text/plain": [
       "[<matplotlib.lines.Line2D at 0x1cdb3d9b7b8>]"
      ]
     },
     "execution_count": 16,
     "metadata": {},
     "output_type": "execute_result"
    },
    {
     "data": {
      "image/png": "[encoded data removed]",
      "text/plain": [
       "<matplotlib.figure.Figure at 0x1cdb0d2b940>"
      ]
     },
     "metadata": {
      "needs_background": "light"
     },
     "output_type": "display_data"
    }
   ],
   "source": [
    "## TODO: Plot the rewards.\n",
    "plt.plot( agent_rewards , label='Rewards / Episode')"
   ]
  },
  {
   "cell_type": "markdown",
   "metadata": {},
   "source": [
    "3- I created my own agent using lanarlader which teach the agent how to land\n",
    "\n",
    "Agent: Basic_Agent \n",
    "\n",
    "Task:TaskLander"
   ]
  },
  {
   "cell_type": "code",
   "execution_count": 22,
   "metadata": {
    "scrolled": true
   },
   "outputs": [
    {
     "name": "stdout",
     "output_type": "stream",
     "text": [
      "Episode = 1000, score = 258.178 (best = 322.774))"
     ]
    }
   ],
   "source": [
    "import time\n",
    "import gym\n",
    "from agents.agent import Basic_Agent\n",
    "from agents.agent import DDPG\n",
    "from task_lander import TaskLander\n",
    "import sys\n",
    "task = TaskLander(gym.make('LunarLander-v2')  )\n",
    "\n",
    "agent = Basic_Agent(task)\n",
    "agent_rewards = []\n",
    "for i_episode in range(1, 1001):\n",
    "    state = agent.reset() # start a new episode\n",
    "    while True:        \n",
    "        action = agent.act(state)\n",
    "        \n",
    "        next_state, reward, done = agent.step(action)\n",
    "        \n",
    "        state = next_state\n",
    "        if done:\n",
    "            print(\"\\rEpisode = {:4d}, score = {:7.3f} (best = {:7.3f})\".format(\n",
    "                i_episode, agent.score, agent.best_score), end=\"\")  # [debug]\n",
    "            agent_rewards.append(reward)\n",
    "            break            \n",
    "    sys.stdout.flush()"
   ]
  },
  {
   "cell_type": "code",
   "execution_count": 14,
   "metadata": {
    "scrolled": false
   },
   "outputs": [
    {
     "data": {
      "text/plain": [
       "[<matplotlib.lines.Line2D at 0x1cdb0d6b5c0>]"
      ]
     },
     "execution_count": 14,
     "metadata": {},
     "output_type": "execute_result"
    },
    {
     "data": {
      "image/png": "[encoded data removed]",
      "text/plain": [
       "<matplotlib.figure.Figure at 0x1cdb0cd7828>"
      ]
     },
     "metadata": {
      "needs_background": "light"
     },
     "output_type": "display_data"
    }
   ],
   "source": [
    "## TODO: Plot the rewards.\n",
    "plt.plot(agent_rewards , label='Rewards / Episode')"
   ]
  },
  {
   "cell_type": "markdown",
   "metadata": {},
   "source": [
    "4- I created my own agent using lanarlader which teach the agent how to land\n",
    "\n",
    "Agent: DDPG_Land \n",
    "\n",
    "Task:TaskLanderWithPhy"
   ]
  },
  {
   "cell_type": "code",
   "execution_count": 17,
   "metadata": {},
   "outputs": [
    {
     "name": "stdout",
     "output_type": "stream",
     "text": [
      "Episode =   10, score =  83.470 (best = 460.590)"
     ]
    }
   ],
   "source": [
    "import time\n",
    "import gym\n",
    "# from agents.agent import Basic_Agent\n",
    "from agents.agent_DDTP import DDPG_Land\n",
    "from task_lander_with_phy import TaskLanderWithPhy\n",
    "import sys\n",
    "\n",
    "task = TaskLanderWithPhy(gym.make('LunarLander-v2')  )\n",
    "\n",
    "agent = DDPG_Land(task)\n",
    "agent_rewards = []\n",
    "for i_episode in range(1, 11):\n",
    "    state = agent.reset() # start a new episode\n",
    "    while True:        \n",
    "        action = agent.act(state)\n",
    "        next_state, reward, done = task.step(action)\n",
    "        agent.step(action, reward, next_state, done)\n",
    "        state = next_state\n",
    "        if done:\n",
    "            print(\"\\rEpisode = {:4d}, score = {:7.3f} (best = {:7.3f})\".format(\n",
    "                i_episode, agent.score, agent.best_score), end=\"\")  # [debug]\n",
    "            agent_rewards.append(reward)\n",
    "            break            \n",
    "    sys.stdout.flush()"
   ]
  },
  {
   "cell_type": "code",
   "execution_count": 21,
   "metadata": {},
   "outputs": [
    {
     "data": {
      "text/plain": [
       "[<matplotlib.lines.Line2D at 0x1ec7b355cf8>]"
      ]
     },
     "execution_count": 21,
     "metadata": {},
     "output_type": "execute_result"
    },
    {
     "data": {
      "image/png": "[encoded data removed]",
      "text/plain": [
       "<matplotlib.figure.Figure at 0x1ec7a266ef0>"
      ]
     },
     "metadata": {
      "needs_background": "light"
     },
     "output_type": "display_data"
    }
   ],
   "source": [
    "## TODO: Plot the rewards.\n",
    "plt.plot(agent_rewards , label='Rewards / Episode')"
   ]
  },
  {
   "cell_type": "markdown",
   "metadata": {
    "collapsed": true
   },
   "source": [
    "## Reflections\n",
    "\n",
    "**Question 1**: Describe the task that you specified in `task.py`.  How did you design the reward function?\n",
    "\n",
    "**Answer**:"
   ]
  },
  {
   "cell_type": "markdown",
   "metadata": {},
   "source": [
    "How did you design the reward function?\n",
    "\n",
    "For the reward function in LunarLander ## reward = 1.3*(abs(self.sim.pose[:3] - self.target_pos)).sum() ## my implementation is in task_lander_with_phy.py It did will at the beginning of 100 expoids then it losses its stability and get nan score.\n",
    "\n",
    "How do you think, the mentioned reward function can be used to achieve the task.\n",
    "\n",
    "It will give posative reward for negative location and I choose it as contrary to MountainCarContinuous which is the sample reward function multiplied with -1 .\n",
    "\n",
    "Did you try any other reward function?\n",
    "\n",
    "No. But my plan to focus on getting the deep learning nano degree in the summer to understan RL better."
   ]
  },
  {
   "cell_type": "markdown",
   "metadata": {},
   "source": [
    "**Question 2**: Discuss your agent briefly, using the following questions as a guide:\n",
    "\n",
    "- What learning algorithm(s) did you try? What worked best for you?\n",
    "- What was your final choice of hyperparameters (such as $\\alpha$, $\\gamma$, $\\epsilon$, etc.)?\n",
    "- What neural network architecture did you use (if any)? Specify layers, sizes, activation functions, etc.\n",
    "\n",
    "**Answer**:"
   ]
  },
  {
   "cell_type": "markdown",
   "metadata": {},
   "source": [
    "For the implementation, I used the learner from DDTP paper which is gived in Udacity."
   ]
  },
  {
   "cell_type": "markdown",
   "metadata": {},
   "source": [
    "### Score tracker and learning parameters\n",
    "        self.score = -np.inf\n",
    "        self.best_w = None\n",
    "        self.best_score = -np.inf\n",
    "        self.noise_scale = 0.1\n",
    "        \n",
    "        #counter\n",
    "        self.count = 0\n",
    "\n",
    "        # Replay memory\n",
    "        self.buffer_size = 100000\n",
    "        self.batch_size = 64\n",
    "        self.memory = ReplayBuffer(self.buffer_size, self.batch_size)\n",
    "        \n",
    "        # Noise process\n",
    "        self.exploration_mu = 0\n",
    "        self.exploration_theta = 0.15\n",
    "        self.exploration_sigma = 0.2\n",
    "        self.noise = OUNoise(1, self.exploration_mu, self.exploration_theta, self.exploration_sigma)\n",
    "        \n",
    "        \n",
    "        # Algorithm parameters\n",
    "        self.gamma = 0.99  # discount factor\n",
    "        self.tau = 0.01  # for soft update of target parameters"
   ]
  },
  {
   "cell_type": "markdown",
   "metadata": {},
   "source": [
    "How did you design the currently used model architecture?\n",
    "\n",
    "*I used two modular from AI Gym on called LunarLander to teach the quadcoper how to land and MountainCarContinuous tp teach it how to fly*\n",
    "\n",
    "How did you come up with the used values of hyperparameters and why do you they are a good choice for this task.\n",
    "\n",
    "*The settings are the default but I spent some time reading DDTP paper to understand the settings. *\n",
    "\n",
    "To what extent, do you think the choice of hyperparameters impacts the performance of the agent.\n",
    "\n",
    "*AS it has been stated in DDTP paper, setting them too high or too low will impact the agent learning. A place between exploration and exploitation should be maintained to avoid performance deterioration*"
   ]
  },
  {
   "cell_type": "markdown",
   "metadata": {},
   "source": [
    "**Question 3**: Using the episode rewards plot, discuss how the agent learned over time.\n",
    "\n",
    "- Was it an easy task to learn or hard?\n",
    "- Was there a gradual learning curve, or an aha moment?\n",
    "- How good was the final performance of the agent? (e.g. mean rewards over the last 10 episodes)\n",
    "\n",
    "**Answer**:"
   ]
  },
  {
   "cell_type": "markdown",
   "metadata": {},
   "source": [
    "My two implementation seems to fail to learn compared to the agent design from SRC blog mentioned above."
   ]
  },
  {
   "cell_type": "markdown",
   "metadata": {},
   "source": [
    "The agent did not successfully learn the tasks but we might improve it by fixing the reward function in the future and better tune the hyperparameters.\n",
    "\n",
    "I tried the following:\n",
    "\n",
    "1- followed the architicture discussed in SRC and replicate the experiments, my agent leared fast.*parameters the ninth setting in DDTP paper*\n",
    "\n",
    "2- replicate the same experiments with the hyperparameters mentioned but my agent did not sucessfully learn the task.\n",
    "\n",
    "3- hacked the code and implement my basic agent to teach quadcoper how to land with low but it got learning score.\n",
    "\n",
    "4- tried to enhanced my experiments by using DDTP with the buffer reply and actor critic but could not sucessfuly choose the correct reward function nor fixing the score bug."
   ]
  },
  {
   "cell_type": "markdown",
   "metadata": {},
   "source": [
    "** Actor Critic **\n",
    "\n",
    "The Actor Critic model is a better score function. Instead of waiting until the end of the episode as we do in Monte Carlo REINFORCE, we make an update at each step (TD Learning).\n",
    "\n",
    "** Buffer replay **\n",
    "\n",
    "Buffer replay is a key technique that allow the agent to learn from earlier memories which can speed up learning and break undesirable temporal correlations.. Too much or too little memory both slow down learning."
   ]
  },
  {
   "cell_type": "markdown",
   "metadata": {},
   "source": [
    "**Question 4**: Briefly summarize your experience working on this project. You can use the following prompts for ideas.\n",
    "\n",
    "- What was the hardest part of the project? (e.g. getting started, plotting, specifying the task, etc.)\n",
    "- Did you find anything interesting in how the quadcopter or your agent behaved?\n",
    "\n",
    "**Answer**:"
   ]
  },
  {
   "cell_type": "markdown",
   "metadata": {},
   "source": [
    "The hardest part is to understand the requirments for the task and hack the code to get it done, understand and intrepret the result, and time to set and watch the video to know where to start.\n",
    "\n",
    "Using Gym AI is the most intresting part and I will dedecate more time to learn it better."
   ]
  },
  {
   "cell_type": "code",
   "execution_count": null,
   "metadata": {
    "collapsed": true
   },
   "outputs": [],
   "source": [
    "# import sys\n",
    "# import pandas as pd\n",
    "# from agents.agent import DDPG\n",
    "# from task import Task\n",
    "\n",
    "# num_episodes = 1000\n",
    "# target_pos = np.array([10., 10., 10.])\n",
    "# task = Task(gym.make('LunarLander-v2'))\n",
    "# agent = DDPG(task) \n",
    "\n",
    "# for i_episode in range(1, num_episodes+1):\n",
    "#     state = agent.reset_episode() # start a new episode\n",
    "#     while True:\n",
    "#         action = agent.act(state) \n",
    "#         next_state, reward, done = task.step(action)\n",
    "#         agent.step(reward, done)\n",
    "#         state = next_state\n",
    "#         if done:\n",
    "#             print(\"\\rEpisode = {:4d}, score = {:7.3f} (best = {:7.3f}), noise_scale = {}\".format(\n",
    "#                 i_episode, agent.score, agent.best_score, agent.noise_scale), end=\"\")  # [debug]\n",
    "#             break\n",
    "#     sys.stdout.flush()"
   ]
  },
  {
   "cell_type": "code",
   "execution_count": null,
   "metadata": {
    "collapsed": true,
    "scrolled": true
   },
   "outputs": [],
   "source": [
    "# #!/usr/bin/env python\n",
    "# from __future__ import print_function\n",
    "\n",
    "# import sys, gym, time\n",
    "\n",
    "\n",
    "# env = gym.make('LunarLander-v2')\n",
    "\n",
    "# # if not hasattr(env.action_space, 'n'):\n",
    "# #     raise Exception('Keyboard agent only supports discrete action spaces')\n",
    "# # ACTIONS = env.action_space.n\n",
    "# SKIP_CONTROL = 0    # Use previous control decision SKIP_CONTROL times, that's how you\n",
    "# #                     # can test what skip is still usable.\n",
    "\n",
    "# human_agent_action = 0\n",
    "# human_wants_restart = False\n",
    "# human_sets_pause = False\n",
    "\n",
    "# # def key_press(key, mod):\n",
    "# #     global human_agent_action, human_wants_restart, human_sets_pause\n",
    "# #     if key==0xff0d: human_wants_restart = True\n",
    "# #     if key==32: human_sets_pause = not human_sets_pause\n",
    "# #     a = int( key - ord('0') )\n",
    "# #     if a <= 0 or a >= ACTIONS: return\n",
    "# #     human_agent_action = a\n",
    "\n",
    "# # def key_release(key, mod):\n",
    "# #     global human_agent_action\n",
    "# #     a = int( key - ord('0') )\n",
    "# #     if a <= 0 or a >= ACTIONS: return\n",
    "# #     if human_agent_action == a:\n",
    "# #         human_agent_action = 0\n",
    "\n",
    "# env.render()\n",
    "# # env.unwrapped.viewer.window.on_key_press = key_press\n",
    "# # env.unwrapped.viewer.window.on_key_release = key_release\n",
    "\n",
    "# def rollout(env):\n",
    "#     global human_agent_action, human_wants_restart, human_sets_pause\n",
    "#     human_wants_restart = False\n",
    "#     obser = env.reset()\n",
    "#     skip = 0\n",
    "#     total_reward = 0\n",
    "#     total_timesteps = 0\n",
    "#     while 1:\n",
    "#         if not skip:\n",
    "#             #print(\"taking action {}\".format(human_agent_action))\n",
    "#             a = human_agent_action\n",
    "#             total_timesteps += 1\n",
    "#             skip = SKIP_CONTROL\n",
    "#         else:\n",
    "#             skip -= 1\n",
    "\n",
    "#         obser, r, done, info = env.step(a)\n",
    "#         if r != 0:\n",
    "#             print(\"reward %0.3f\" % r)\n",
    "#         total_reward += r\n",
    "#         window_still_open = env.render()\n",
    "#         if window_still_open==False: return False\n",
    "#         if done: break\n",
    "#         if human_wants_restart: break\n",
    "#         while human_sets_pause:\n",
    "#             env.render()\n",
    "#             time.sleep(0.1)\n",
    "#         time.sleep(0.1)\n",
    "#     print(\"timesteps %i reward %0.2f\" % (total_timesteps, total_reward))\n",
    "\n",
    "# # print(\"ACTIONS={}\".format(ACTIONS))\n",
    "# # print(\"Press keys 1 2 3 ... to take actions 1 2 3 ...\")\n",
    "# # print(\"No keys pressed is taking action 0\")\n",
    "\n",
    "# while 1:\n",
    "#     window_still_open = rollout(env)\n",
    "#     if window_still_open==False: break"
   ]
  }
 ],
 "metadata": {
  "anaconda-cloud": {},
  "kernelspec": {
   "display_name": "quadcop",
   "language": "python",
   "name": "quadcop"
  },
  "language_info": {
   "codemirror_mode": {
    "name": "ipython",
    "version": 3
   },
   "file_extension": ".py",
   "mimetype": "text/x-python",
   "name": "python",
   "nbconvert_exporter": "python",
   "pygments_lexer": "ipython3",
   "version": "3.6.8"
  }
 },
 "nbformat": 4,
 "nbformat_minor": 2
}
